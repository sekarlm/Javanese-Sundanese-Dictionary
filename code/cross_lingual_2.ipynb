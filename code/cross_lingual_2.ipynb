{
  "nbformat": 4,
  "nbformat_minor": 0,
  "metadata": {
    "colab": {
      "name": "cross_lingual_2.ipynb",
      "provenance": []
    },
    "kernelspec": {
      "name": "python3",
      "display_name": "Python 3"
    },
    "accelerator": "TPU"
  },
  "cells": [
    {
      "cell_type": "markdown",
      "metadata": {
        "id": "Zqz2ieUN-aY1"
      },
      "source": [
        "# **Cross-lingual Embedding**\r\n",
        "\r\n",
        "In this task will be generated cross lingual word embedding for Bahasa Jawa and Bahasa Indonesia. Cross lingual word embedding created from monolingual corpus. The corpus used in this task are collections of wikipedia articles. The output of this task will be used on bilingual dictionaries generation task."
      ]
    },
    {
      "cell_type": "markdown",
      "metadata": {
        "id": "QABfac-0-fJM"
      },
      "source": [
        "## Data Preparation"
      ]
    },
    {
      "cell_type": "code",
      "metadata": {
        "colab": {
          "base_uri": "https://localhost:8080/"
        },
        "id": "iOCyW3A8-ONK",
        "outputId": "d8728b99-3ea1-4285-f205-90cdd1db284b"
      },
      "source": [
        "from __future__ import print_function\r\n",
        "\r\n",
        "import logging\r\n",
        "import os.path\r\n",
        "import sys\r\n",
        "\r\n",
        "from gensim.corpora import WikiCorpus\r\n",
        "\r\n",
        "program = os.path.basename(sys.argv[0])\r\n",
        "logger = logging.getLogger(program)\r\n",
        "\r\n",
        "logging.basicConfig(format='%(asctime)s: %(levelname)s: %(message)s')\r\n",
        "logging.root.setLevel(level=logging.INFO)\r\n",
        "logger.info(\"running %s\" % ' '.join(sys.argv))"
      ],
      "execution_count": null,
      "outputs": [
        {
          "output_type": "stream",
          "text": [
            "INFO:summarizer.preprocessing.cleaner:'pattern' package not found; tag filters are not available for English\n",
            "INFO:ipykernel_launcher.py:running /usr/local/lib/python3.6/dist-packages/ipykernel_launcher.py -f /root/.local/share/jupyter/runtime/kernel-759e05bd-5736-405a-a60b-cf70ee6a450d.json\n"
          ],
          "name": "stderr"
        }
      ]
    },
    {
      "cell_type": "markdown",
      "metadata": {
        "id": "brWN1Wko-pek"
      },
      "source": [
        "### Merge Corpus"
      ]
    },
    {
      "cell_type": "code",
      "metadata": {
        "id": "ff4LnLQJ-kce"
      },
      "source": [
        "def load_merge(filename1, filename2):\r\n",
        "    f1 = open(filename1, 'r+', encoding='utf-8')\r\n",
        "    doc = f1.readlines()\r\n",
        "    f1.close()\r\n",
        "    \r\n",
        "    f2 = open(filename2, 'r+', encoding='utf-8')\r\n",
        "    doc = doc+f2.readlines()\r\n",
        "    f2.close()\r\n",
        "    \r\n",
        "    return doc"
      ],
      "execution_count": null,
      "outputs": []
    },
    {
      "cell_type": "code",
      "metadata": {
        "colab": {
          "base_uri": "https://localhost:8080/"
        },
        "id": "s4smI1RX-sBj",
        "outputId": "71af922f-1f71-4f24-c2a3-35c88b641630"
      },
      "source": [
        "merged_corpus = load_merge('jvwiki.txt', 'suwiki.txt')\r\n",
        "\r\n",
        "print(len(merged_corpus))"
      ],
      "execution_count": null,
      "outputs": [
        {
          "output_type": "stream",
          "text": [
            "53053\n"
          ],
          "name": "stdout"
        }
      ]
    },
    {
      "cell_type": "markdown",
      "metadata": {
        "id": "k0bPLDlS-xv8"
      },
      "source": [
        "### Shuffle Corpus"
      ]
    },
    {
      "cell_type": "code",
      "metadata": {
        "colab": {
          "base_uri": "https://localhost:8080/"
        },
        "id": "XzhXR7_d-ua6",
        "outputId": "9f9f2ac4-8de9-43a7-fd8d-0bd5ed08c595"
      },
      "source": [
        "import nltk\r\n",
        "nltk.download('punkt')"
      ],
      "execution_count": null,
      "outputs": [
        {
          "output_type": "stream",
          "text": [
            "[nltk_data] Downloading package punkt to /root/nltk_data...\n",
            "[nltk_data]   Package punkt is already up-to-date!\n"
          ],
          "name": "stdout"
        },
        {
          "output_type": "execute_result",
          "data": {
            "text/plain": [
              "True"
            ]
          },
          "metadata": {
            "tags": []
          },
          "execution_count": 1
        }
      ]
    },
    {
      "cell_type": "code",
      "metadata": {
        "id": "S_BBwqQq-1GR"
      },
      "source": [
        "from nltk.tokenize import word_tokenize\r\n",
        "import numpy as np"
      ],
      "execution_count": null,
      "outputs": []
    },
    {
      "cell_type": "code",
      "metadata": {
        "id": "fz7wf3bc-3kH"
      },
      "source": [
        "def to_tokens(data):\r\n",
        "    result = []\r\n",
        "    for sent in data:\r\n",
        "        result += word_tokenize(sent)\r\n",
        "    \r\n",
        "    return result\r\n",
        "\r\n",
        "def shuffle(data):\r\n",
        "    tokens = to_tokens(data)\r\n",
        "    x = np.random.permutation(tokens)\r\n",
        "    \r\n",
        "    return x.tolist()"
      ],
      "execution_count": null,
      "outputs": []
    },
    {
      "cell_type": "code",
      "metadata": {
        "id": "d6igVCWE-5n1",
        "colab": {
          "base_uri": "https://localhost:8080/",
          "height": 166
        },
        "outputId": "2ff2319d-61a8-45a2-9cd2-0459c25dd778"
      },
      "source": [
        "shuffled_corpus = shuffle(merged_corpus)"
      ],
      "execution_count": null,
      "outputs": [
        {
          "output_type": "error",
          "ename": "NameError",
          "evalue": "ignored",
          "traceback": [
            "\u001b[0;31m---------------------------------------------------------------------------\u001b[0m",
            "\u001b[0;31mNameError\u001b[0m                                 Traceback (most recent call last)",
            "\u001b[0;32m<ipython-input-4-0aaa703c2ed0>\u001b[0m in \u001b[0;36m<module>\u001b[0;34m()\u001b[0m\n\u001b[0;32m----> 1\u001b[0;31m \u001b[0mshuffled_corpus\u001b[0m \u001b[0;34m=\u001b[0m \u001b[0mshuffle\u001b[0m\u001b[0;34m(\u001b[0m\u001b[0mmerged_corpus\u001b[0m\u001b[0;34m)\u001b[0m\u001b[0;34m\u001b[0m\u001b[0;34m\u001b[0m\u001b[0m\n\u001b[0m",
            "\u001b[0;31mNameError\u001b[0m: name 'merged_corpus' is not defined"
          ]
        }
      ]
    },
    {
      "cell_type": "code",
      "metadata": {
        "colab": {
          "base_uri": "https://localhost:8080/"
        },
        "id": "cWWR9690-8pF",
        "outputId": "ff9d992e-a555-4cfd-d3ca-50bd931607a9"
      },
      "source": [
        "def divide_chunks(l, n): \r\n",
        "    # looping till length l \r\n",
        "    for i in range(0, len(l), n):  \r\n",
        "        yield l[i:i + n]\r\n",
        "\r\n",
        "shuffled_corpus = list(divide_chunks(shuffled_corpus, 240))\r\n",
        "print(len(shuffled_corpus))"
      ],
      "execution_count": null,
      "outputs": [
        {
          "output_type": "stream",
          "text": [
            "49130\n"
          ],
          "name": "stdout"
        }
      ]
    },
    {
      "cell_type": "code",
      "metadata": {
        "id": "rwpcCvZEGvr8"
      },
      "source": [
        "def generate_texts(corpus, output):\r\n",
        "  out = open(output, 'w', encoding='utf-8')\r\n",
        "\r\n",
        "  for text in corpus:\r\n",
        "    p = \" \".join(text) + \"\\n\"\r\n",
        "    out.write(p)\r\n",
        "  print(\"all saved to new cospus file\")"
      ],
      "execution_count": null,
      "outputs": []
    },
    {
      "cell_type": "code",
      "metadata": {
        "colab": {
          "base_uri": "https://localhost:8080/"
        },
        "id": "u56VetoWHt_T",
        "outputId": "efa99675-2bd6-4728-8f2c-5c9713efdc9c"
      },
      "source": [
        "generate_texts(shuffled_corpus, \"merged_corpus.txt\")"
      ],
      "execution_count": null,
      "outputs": [
        {
          "output_type": "stream",
          "text": [
            "all saved to new cospus file\n"
          ],
          "name": "stdout"
        }
      ]
    },
    {
      "cell_type": "markdown",
      "metadata": {
        "id": "7Aa8i2RAJDE0"
      },
      "source": [
        "## BERT"
      ]
    },
    {
      "cell_type": "markdown",
      "metadata": {
        "id": "a_T0if85URNt"
      },
      "source": [
        "### Loading Pre-trained BERT"
      ]
    },
    {
      "cell_type": "code",
      "metadata": {
        "colab": {
          "base_uri": "https://localhost:8080/"
        },
        "id": "oA1aDG0GJAtK",
        "outputId": "46e2b687-2be4-40c2-d5a8-5146b04506e9"
      },
      "source": [
        "!pip install transformers"
      ],
      "execution_count": null,
      "outputs": [
        {
          "output_type": "stream",
          "text": [
            "Requirement already satisfied: transformers in /usr/local/lib/python3.6/dist-packages (4.2.2)\n",
            "Requirement already satisfied: tqdm>=4.27 in /usr/local/lib/python3.6/dist-packages (from transformers) (4.41.1)\n",
            "Requirement already satisfied: dataclasses; python_version < \"3.7\" in /usr/local/lib/python3.6/dist-packages (from transformers) (0.8)\n",
            "Requirement already satisfied: tokenizers==0.9.4 in /usr/local/lib/python3.6/dist-packages (from transformers) (0.9.4)\n",
            "Requirement already satisfied: regex!=2019.12.17 in /usr/local/lib/python3.6/dist-packages (from transformers) (2019.12.20)\n",
            "Requirement already satisfied: filelock in /usr/local/lib/python3.6/dist-packages (from transformers) (3.0.12)\n",
            "Requirement already satisfied: numpy in /usr/local/lib/python3.6/dist-packages (from transformers) (1.19.5)\n",
            "Requirement already satisfied: packaging in /usr/local/lib/python3.6/dist-packages (from transformers) (20.8)\n",
            "Requirement already satisfied: importlib-metadata; python_version < \"3.8\" in /usr/local/lib/python3.6/dist-packages (from transformers) (3.3.0)\n",
            "Requirement already satisfied: requests in /usr/local/lib/python3.6/dist-packages (from transformers) (2.23.0)\n",
            "Requirement already satisfied: sacremoses in /usr/local/lib/python3.6/dist-packages (from transformers) (0.0.43)\n",
            "Requirement already satisfied: pyparsing>=2.0.2 in /usr/local/lib/python3.6/dist-packages (from packaging->transformers) (2.4.7)\n",
            "Requirement already satisfied: typing-extensions>=3.6.4; python_version < \"3.8\" in /usr/local/lib/python3.6/dist-packages (from importlib-metadata; python_version < \"3.8\"->transformers) (3.7.4.3)\n",
            "Requirement already satisfied: zipp>=0.5 in /usr/local/lib/python3.6/dist-packages (from importlib-metadata; python_version < \"3.8\"->transformers) (3.4.0)\n",
            "Requirement already satisfied: urllib3!=1.25.0,!=1.25.1,<1.26,>=1.21.1 in /usr/local/lib/python3.6/dist-packages (from requests->transformers) (1.24.3)\n",
            "Requirement already satisfied: idna<3,>=2.5 in /usr/local/lib/python3.6/dist-packages (from requests->transformers) (2.10)\n",
            "Requirement already satisfied: chardet<4,>=3.0.2 in /usr/local/lib/python3.6/dist-packages (from requests->transformers) (3.0.4)\n",
            "Requirement already satisfied: certifi>=2017.4.17 in /usr/local/lib/python3.6/dist-packages (from requests->transformers) (2020.12.5)\n",
            "Requirement already satisfied: click in /usr/local/lib/python3.6/dist-packages (from sacremoses->transformers) (7.1.2)\n",
            "Requirement already satisfied: six in /usr/local/lib/python3.6/dist-packages (from sacremoses->transformers) (1.15.0)\n",
            "Requirement already satisfied: joblib in /usr/local/lib/python3.6/dist-packages (from sacremoses->transformers) (1.0.0)\n"
          ],
          "name": "stdout"
        }
      ]
    },
    {
      "cell_type": "code",
      "metadata": {
        "id": "5ZRWiJrzW6uw"
      },
      "source": [
        "import torch\r\n",
        "from transformers import BertTokenizer, BertModel\r\n",
        "\r\n",
        "# OPTIONAL: if you want to have more information on what's happening, activate the logger as follows\r\n",
        "import logging\r\n",
        "logging.basicConfig(format=\"%(levelname)s - %(asctime)s: %(message)s\", datefmt= '%H:%M:%S', level=logging.INFO)\r\n",
        "\r\n",
        "import matplotlib.pyplot as plt\r\n",
        "% matplotlib inline"
      ],
      "execution_count": null,
      "outputs": []
    },
    {
      "cell_type": "markdown",
      "metadata": {
        "id": "k7RTMIxXU6ZP"
      },
      "source": [
        "### bert-multilingual-uncased"
      ]
    },
    {
      "cell_type": "code",
      "metadata": {
        "id": "SWCClhdYUuYZ"
      },
      "source": [
        "# Load pre-trained model and tokenizer (vocabulary)\r\n",
        "tokenizer = BertTokenizer.from_pretrained('bert-base-multilingual-uncased')\r\n",
        "model = BertModel.from_pretrained(\"bert-base-multilingual-uncased\", output_hidden_states = True,)"
      ],
      "execution_count": null,
      "outputs": []
    },
    {
      "cell_type": "code",
      "metadata": {
        "colab": {
          "base_uri": "https://localhost:8080/"
        },
        "id": "JPR3VbEjVC6n",
        "outputId": "f07ba9d9-a59d-4449-ede0-b43f070b7807"
      },
      "source": [
        "model.eval()"
      ],
      "execution_count": null,
      "outputs": [
        {
          "output_type": "execute_result",
          "data": {
            "text/plain": [
              "BertModel(\n",
              "  (embeddings): BertEmbeddings(\n",
              "    (word_embeddings): Embedding(105879, 768, padding_idx=0)\n",
              "    (position_embeddings): Embedding(512, 768)\n",
              "    (token_type_embeddings): Embedding(2, 768)\n",
              "    (LayerNorm): LayerNorm((768,), eps=1e-12, elementwise_affine=True)\n",
              "    (dropout): Dropout(p=0.1, inplace=False)\n",
              "  )\n",
              "  (encoder): BertEncoder(\n",
              "    (layer): ModuleList(\n",
              "      (0): BertLayer(\n",
              "        (attention): BertAttention(\n",
              "          (self): BertSelfAttention(\n",
              "            (query): Linear(in_features=768, out_features=768, bias=True)\n",
              "            (key): Linear(in_features=768, out_features=768, bias=True)\n",
              "            (value): Linear(in_features=768, out_features=768, bias=True)\n",
              "            (dropout): Dropout(p=0.1, inplace=False)\n",
              "          )\n",
              "          (output): BertSelfOutput(\n",
              "            (dense): Linear(in_features=768, out_features=768, bias=True)\n",
              "            (LayerNorm): LayerNorm((768,), eps=1e-12, elementwise_affine=True)\n",
              "            (dropout): Dropout(p=0.1, inplace=False)\n",
              "          )\n",
              "        )\n",
              "        (intermediate): BertIntermediate(\n",
              "          (dense): Linear(in_features=768, out_features=3072, bias=True)\n",
              "        )\n",
              "        (output): BertOutput(\n",
              "          (dense): Linear(in_features=3072, out_features=768, bias=True)\n",
              "          (LayerNorm): LayerNorm((768,), eps=1e-12, elementwise_affine=True)\n",
              "          (dropout): Dropout(p=0.1, inplace=False)\n",
              "        )\n",
              "      )\n",
              "      (1): BertLayer(\n",
              "        (attention): BertAttention(\n",
              "          (self): BertSelfAttention(\n",
              "            (query): Linear(in_features=768, out_features=768, bias=True)\n",
              "            (key): Linear(in_features=768, out_features=768, bias=True)\n",
              "            (value): Linear(in_features=768, out_features=768, bias=True)\n",
              "            (dropout): Dropout(p=0.1, inplace=False)\n",
              "          )\n",
              "          (output): BertSelfOutput(\n",
              "            (dense): Linear(in_features=768, out_features=768, bias=True)\n",
              "            (LayerNorm): LayerNorm((768,), eps=1e-12, elementwise_affine=True)\n",
              "            (dropout): Dropout(p=0.1, inplace=False)\n",
              "          )\n",
              "        )\n",
              "        (intermediate): BertIntermediate(\n",
              "          (dense): Linear(in_features=768, out_features=3072, bias=True)\n",
              "        )\n",
              "        (output): BertOutput(\n",
              "          (dense): Linear(in_features=3072, out_features=768, bias=True)\n",
              "          (LayerNorm): LayerNorm((768,), eps=1e-12, elementwise_affine=True)\n",
              "          (dropout): Dropout(p=0.1, inplace=False)\n",
              "        )\n",
              "      )\n",
              "      (2): BertLayer(\n",
              "        (attention): BertAttention(\n",
              "          (self): BertSelfAttention(\n",
              "            (query): Linear(in_features=768, out_features=768, bias=True)\n",
              "            (key): Linear(in_features=768, out_features=768, bias=True)\n",
              "            (value): Linear(in_features=768, out_features=768, bias=True)\n",
              "            (dropout): Dropout(p=0.1, inplace=False)\n",
              "          )\n",
              "          (output): BertSelfOutput(\n",
              "            (dense): Linear(in_features=768, out_features=768, bias=True)\n",
              "            (LayerNorm): LayerNorm((768,), eps=1e-12, elementwise_affine=True)\n",
              "            (dropout): Dropout(p=0.1, inplace=False)\n",
              "          )\n",
              "        )\n",
              "        (intermediate): BertIntermediate(\n",
              "          (dense): Linear(in_features=768, out_features=3072, bias=True)\n",
              "        )\n",
              "        (output): BertOutput(\n",
              "          (dense): Linear(in_features=3072, out_features=768, bias=True)\n",
              "          (LayerNorm): LayerNorm((768,), eps=1e-12, elementwise_affine=True)\n",
              "          (dropout): Dropout(p=0.1, inplace=False)\n",
              "        )\n",
              "      )\n",
              "      (3): BertLayer(\n",
              "        (attention): BertAttention(\n",
              "          (self): BertSelfAttention(\n",
              "            (query): Linear(in_features=768, out_features=768, bias=True)\n",
              "            (key): Linear(in_features=768, out_features=768, bias=True)\n",
              "            (value): Linear(in_features=768, out_features=768, bias=True)\n",
              "            (dropout): Dropout(p=0.1, inplace=False)\n",
              "          )\n",
              "          (output): BertSelfOutput(\n",
              "            (dense): Linear(in_features=768, out_features=768, bias=True)\n",
              "            (LayerNorm): LayerNorm((768,), eps=1e-12, elementwise_affine=True)\n",
              "            (dropout): Dropout(p=0.1, inplace=False)\n",
              "          )\n",
              "        )\n",
              "        (intermediate): BertIntermediate(\n",
              "          (dense): Linear(in_features=768, out_features=3072, bias=True)\n",
              "        )\n",
              "        (output): BertOutput(\n",
              "          (dense): Linear(in_features=3072, out_features=768, bias=True)\n",
              "          (LayerNorm): LayerNorm((768,), eps=1e-12, elementwise_affine=True)\n",
              "          (dropout): Dropout(p=0.1, inplace=False)\n",
              "        )\n",
              "      )\n",
              "      (4): BertLayer(\n",
              "        (attention): BertAttention(\n",
              "          (self): BertSelfAttention(\n",
              "            (query): Linear(in_features=768, out_features=768, bias=True)\n",
              "            (key): Linear(in_features=768, out_features=768, bias=True)\n",
              "            (value): Linear(in_features=768, out_features=768, bias=True)\n",
              "            (dropout): Dropout(p=0.1, inplace=False)\n",
              "          )\n",
              "          (output): BertSelfOutput(\n",
              "            (dense): Linear(in_features=768, out_features=768, bias=True)\n",
              "            (LayerNorm): LayerNorm((768,), eps=1e-12, elementwise_affine=True)\n",
              "            (dropout): Dropout(p=0.1, inplace=False)\n",
              "          )\n",
              "        )\n",
              "        (intermediate): BertIntermediate(\n",
              "          (dense): Linear(in_features=768, out_features=3072, bias=True)\n",
              "        )\n",
              "        (output): BertOutput(\n",
              "          (dense): Linear(in_features=3072, out_features=768, bias=True)\n",
              "          (LayerNorm): LayerNorm((768,), eps=1e-12, elementwise_affine=True)\n",
              "          (dropout): Dropout(p=0.1, inplace=False)\n",
              "        )\n",
              "      )\n",
              "      (5): BertLayer(\n",
              "        (attention): BertAttention(\n",
              "          (self): BertSelfAttention(\n",
              "            (query): Linear(in_features=768, out_features=768, bias=True)\n",
              "            (key): Linear(in_features=768, out_features=768, bias=True)\n",
              "            (value): Linear(in_features=768, out_features=768, bias=True)\n",
              "            (dropout): Dropout(p=0.1, inplace=False)\n",
              "          )\n",
              "          (output): BertSelfOutput(\n",
              "            (dense): Linear(in_features=768, out_features=768, bias=True)\n",
              "            (LayerNorm): LayerNorm((768,), eps=1e-12, elementwise_affine=True)\n",
              "            (dropout): Dropout(p=0.1, inplace=False)\n",
              "          )\n",
              "        )\n",
              "        (intermediate): BertIntermediate(\n",
              "          (dense): Linear(in_features=768, out_features=3072, bias=True)\n",
              "        )\n",
              "        (output): BertOutput(\n",
              "          (dense): Linear(in_features=3072, out_features=768, bias=True)\n",
              "          (LayerNorm): LayerNorm((768,), eps=1e-12, elementwise_affine=True)\n",
              "          (dropout): Dropout(p=0.1, inplace=False)\n",
              "        )\n",
              "      )\n",
              "      (6): BertLayer(\n",
              "        (attention): BertAttention(\n",
              "          (self): BertSelfAttention(\n",
              "            (query): Linear(in_features=768, out_features=768, bias=True)\n",
              "            (key): Linear(in_features=768, out_features=768, bias=True)\n",
              "            (value): Linear(in_features=768, out_features=768, bias=True)\n",
              "            (dropout): Dropout(p=0.1, inplace=False)\n",
              "          )\n",
              "          (output): BertSelfOutput(\n",
              "            (dense): Linear(in_features=768, out_features=768, bias=True)\n",
              "            (LayerNorm): LayerNorm((768,), eps=1e-12, elementwise_affine=True)\n",
              "            (dropout): Dropout(p=0.1, inplace=False)\n",
              "          )\n",
              "        )\n",
              "        (intermediate): BertIntermediate(\n",
              "          (dense): Linear(in_features=768, out_features=3072, bias=True)\n",
              "        )\n",
              "        (output): BertOutput(\n",
              "          (dense): Linear(in_features=3072, out_features=768, bias=True)\n",
              "          (LayerNorm): LayerNorm((768,), eps=1e-12, elementwise_affine=True)\n",
              "          (dropout): Dropout(p=0.1, inplace=False)\n",
              "        )\n",
              "      )\n",
              "      (7): BertLayer(\n",
              "        (attention): BertAttention(\n",
              "          (self): BertSelfAttention(\n",
              "            (query): Linear(in_features=768, out_features=768, bias=True)\n",
              "            (key): Linear(in_features=768, out_features=768, bias=True)\n",
              "            (value): Linear(in_features=768, out_features=768, bias=True)\n",
              "            (dropout): Dropout(p=0.1, inplace=False)\n",
              "          )\n",
              "          (output): BertSelfOutput(\n",
              "            (dense): Linear(in_features=768, out_features=768, bias=True)\n",
              "            (LayerNorm): LayerNorm((768,), eps=1e-12, elementwise_affine=True)\n",
              "            (dropout): Dropout(p=0.1, inplace=False)\n",
              "          )\n",
              "        )\n",
              "        (intermediate): BertIntermediate(\n",
              "          (dense): Linear(in_features=768, out_features=3072, bias=True)\n",
              "        )\n",
              "        (output): BertOutput(\n",
              "          (dense): Linear(in_features=3072, out_features=768, bias=True)\n",
              "          (LayerNorm): LayerNorm((768,), eps=1e-12, elementwise_affine=True)\n",
              "          (dropout): Dropout(p=0.1, inplace=False)\n",
              "        )\n",
              "      )\n",
              "      (8): BertLayer(\n",
              "        (attention): BertAttention(\n",
              "          (self): BertSelfAttention(\n",
              "            (query): Linear(in_features=768, out_features=768, bias=True)\n",
              "            (key): Linear(in_features=768, out_features=768, bias=True)\n",
              "            (value): Linear(in_features=768, out_features=768, bias=True)\n",
              "            (dropout): Dropout(p=0.1, inplace=False)\n",
              "          )\n",
              "          (output): BertSelfOutput(\n",
              "            (dense): Linear(in_features=768, out_features=768, bias=True)\n",
              "            (LayerNorm): LayerNorm((768,), eps=1e-12, elementwise_affine=True)\n",
              "            (dropout): Dropout(p=0.1, inplace=False)\n",
              "          )\n",
              "        )\n",
              "        (intermediate): BertIntermediate(\n",
              "          (dense): Linear(in_features=768, out_features=3072, bias=True)\n",
              "        )\n",
              "        (output): BertOutput(\n",
              "          (dense): Linear(in_features=3072, out_features=768, bias=True)\n",
              "          (LayerNorm): LayerNorm((768,), eps=1e-12, elementwise_affine=True)\n",
              "          (dropout): Dropout(p=0.1, inplace=False)\n",
              "        )\n",
              "      )\n",
              "      (9): BertLayer(\n",
              "        (attention): BertAttention(\n",
              "          (self): BertSelfAttention(\n",
              "            (query): Linear(in_features=768, out_features=768, bias=True)\n",
              "            (key): Linear(in_features=768, out_features=768, bias=True)\n",
              "            (value): Linear(in_features=768, out_features=768, bias=True)\n",
              "            (dropout): Dropout(p=0.1, inplace=False)\n",
              "          )\n",
              "          (output): BertSelfOutput(\n",
              "            (dense): Linear(in_features=768, out_features=768, bias=True)\n",
              "            (LayerNorm): LayerNorm((768,), eps=1e-12, elementwise_affine=True)\n",
              "            (dropout): Dropout(p=0.1, inplace=False)\n",
              "          )\n",
              "        )\n",
              "        (intermediate): BertIntermediate(\n",
              "          (dense): Linear(in_features=768, out_features=3072, bias=True)\n",
              "        )\n",
              "        (output): BertOutput(\n",
              "          (dense): Linear(in_features=3072, out_features=768, bias=True)\n",
              "          (LayerNorm): LayerNorm((768,), eps=1e-12, elementwise_affine=True)\n",
              "          (dropout): Dropout(p=0.1, inplace=False)\n",
              "        )\n",
              "      )\n",
              "      (10): BertLayer(\n",
              "        (attention): BertAttention(\n",
              "          (self): BertSelfAttention(\n",
              "            (query): Linear(in_features=768, out_features=768, bias=True)\n",
              "            (key): Linear(in_features=768, out_features=768, bias=True)\n",
              "            (value): Linear(in_features=768, out_features=768, bias=True)\n",
              "            (dropout): Dropout(p=0.1, inplace=False)\n",
              "          )\n",
              "          (output): BertSelfOutput(\n",
              "            (dense): Linear(in_features=768, out_features=768, bias=True)\n",
              "            (LayerNorm): LayerNorm((768,), eps=1e-12, elementwise_affine=True)\n",
              "            (dropout): Dropout(p=0.1, inplace=False)\n",
              "          )\n",
              "        )\n",
              "        (intermediate): BertIntermediate(\n",
              "          (dense): Linear(in_features=768, out_features=3072, bias=True)\n",
              "        )\n",
              "        (output): BertOutput(\n",
              "          (dense): Linear(in_features=3072, out_features=768, bias=True)\n",
              "          (LayerNorm): LayerNorm((768,), eps=1e-12, elementwise_affine=True)\n",
              "          (dropout): Dropout(p=0.1, inplace=False)\n",
              "        )\n",
              "      )\n",
              "      (11): BertLayer(\n",
              "        (attention): BertAttention(\n",
              "          (self): BertSelfAttention(\n",
              "            (query): Linear(in_features=768, out_features=768, bias=True)\n",
              "            (key): Linear(in_features=768, out_features=768, bias=True)\n",
              "            (value): Linear(in_features=768, out_features=768, bias=True)\n",
              "            (dropout): Dropout(p=0.1, inplace=False)\n",
              "          )\n",
              "          (output): BertSelfOutput(\n",
              "            (dense): Linear(in_features=768, out_features=768, bias=True)\n",
              "            (LayerNorm): LayerNorm((768,), eps=1e-12, elementwise_affine=True)\n",
              "            (dropout): Dropout(p=0.1, inplace=False)\n",
              "          )\n",
              "        )\n",
              "        (intermediate): BertIntermediate(\n",
              "          (dense): Linear(in_features=768, out_features=3072, bias=True)\n",
              "        )\n",
              "        (output): BertOutput(\n",
              "          (dense): Linear(in_features=3072, out_features=768, bias=True)\n",
              "          (LayerNorm): LayerNorm((768,), eps=1e-12, elementwise_affine=True)\n",
              "          (dropout): Dropout(p=0.1, inplace=False)\n",
              "        )\n",
              "      )\n",
              "    )\n",
              "  )\n",
              "  (pooler): BertPooler(\n",
              "    (dense): Linear(in_features=768, out_features=768, bias=True)\n",
              "    (activation): Tanh()\n",
              "  )\n",
              ")"
            ]
          },
          "metadata": {
            "tags": []
          },
          "execution_count": 45
        }
      ]
    },
    {
      "cell_type": "markdown",
      "metadata": {
        "id": "oozvRJ9yZW4B"
      },
      "source": [
        "### Generate Input Text"
      ]
    },
    {
      "cell_type": "code",
      "metadata": {
        "id": "_159xHg7VMCf"
      },
      "source": [
        "def create_input_text(corpus):\r\n",
        "  text = \"\"\r\n",
        "  for i in range(len(corpus)):\r\n",
        "    if i == 0:\r\n",
        "      x = \"[CLS] \" + corpus[i] + \" [SEP]\"\r\n",
        "    else:\r\n",
        "      x = \" \" + corpus[i] + \" [SEP]\"\r\n",
        "    text += x\r\n",
        "  \r\n",
        "  return text"
      ],
      "execution_count": null,
      "outputs": []
    },
    {
      "cell_type": "code",
      "metadata": {
        "id": "6n_bbYG0d_oF"
      },
      "source": [
        "import pandas as pd\r\n",
        "\r\n",
        "jv_texts = pd.read_csv('merged_corpus.txt', sep=\"\\n\", header=None)"
      ],
      "execution_count": null,
      "outputs": []
    },
    {
      "cell_type": "code",
      "metadata": {
        "colab": {
          "base_uri": "https://localhost:8080/",
          "height": 202
        },
        "id": "iEvaa_rNPWlt",
        "outputId": "a144b4f8-2bb3-4bf5-d8b1-d927290e1fc9"
      },
      "source": [
        "jv_texts.head()"
      ],
      "execution_count": null,
      "outputs": [
        {
          "output_type": "execute_result",
          "data": {
            "text/html": [
              "<div>\n",
              "<style scoped>\n",
              "    .dataframe tbody tr th:only-of-type {\n",
              "        vertical-align: middle;\n",
              "    }\n",
              "\n",
              "    .dataframe tbody tr th {\n",
              "        vertical-align: top;\n",
              "    }\n",
              "\n",
              "    .dataframe thead th {\n",
              "        text-align: right;\n",
              "    }\n",
              "</style>\n",
              "<table border=\"1\" class=\"dataframe\">\n",
              "  <thead>\n",
              "    <tr style=\"text-align: right;\">\n",
              "      <th></th>\n",
              "      <th>0</th>\n",
              "    </tr>\n",
              "  </thead>\n",
              "  <tbody>\n",
              "    <tr>\n",
              "      <th>0</th>\n",
              "      <td>hiji melayu jenis karo basa Kategori Sawetara ...</td>\n",
              "    </tr>\n",
              "    <tr>\n",
              "      <th>1</th>\n",
              "      <td>wite atawa kaluar Indomie di héjo loba the Ieu...</td>\n",
              "    </tr>\n",
              "    <tr>\n",
              "      <th>2</th>\n",
              "      <td>wayah ieu Vansanten like tina analogy bisa CEO...</td>\n",
              "    </tr>\n",
              "    <tr>\n",
              "      <th>3</th>\n",
              "      <td>Nana basa ku pangaweruh dodolan Artikel perang...</td>\n",
              "    </tr>\n",
              "    <tr>\n",
              "      <th>4</th>\n",
              "      <td>kidul the DPR Hida kualitas iku operasi astéro...</td>\n",
              "    </tr>\n",
              "  </tbody>\n",
              "</table>\n",
              "</div>"
            ],
            "text/plain": [
              "                                                   0\n",
              "0  hiji melayu jenis karo basa Kategori Sawetara ...\n",
              "1  wite atawa kaluar Indomie di héjo loba the Ieu...\n",
              "2  wayah ieu Vansanten like tina analogy bisa CEO...\n",
              "3  Nana basa ku pangaweruh dodolan Artikel perang...\n",
              "4  kidul the DPR Hida kualitas iku operasi astéro..."
            ]
          },
          "metadata": {
            "tags": []
          },
          "execution_count": 9
        }
      ]
    },
    {
      "cell_type": "code",
      "metadata": {
        "id": "IJOC7t3hJOYR"
      },
      "source": [
        "corpus = jv_texts[0]"
      ],
      "execution_count": null,
      "outputs": []
    },
    {
      "cell_type": "code",
      "metadata": {
        "id": "uOJpKASaQ3Xk"
      },
      "source": [
        "tmp = corpus[0]"
      ],
      "execution_count": null,
      "outputs": []
    },
    {
      "cell_type": "markdown",
      "metadata": {
        "id": "It_9ueh8afcP"
      },
      "source": [
        "### Tokenization"
      ]
    },
    {
      "cell_type": "code",
      "metadata": {
        "id": "7cLFLhHPYkzV"
      },
      "source": [
        "# Tokenize our sentence with the BERT tokenizer.\r\n",
        "tokenized_text = tokenizer.tokenize(tmp)\r\n",
        "\r\n",
        "# Map the token strings to their vocabulary indeces.\r\n",
        "indexed_tokens = tokenizer.convert_tokens_to_ids(tokenized_text)"
      ],
      "execution_count": null,
      "outputs": []
    },
    {
      "cell_type": "code",
      "metadata": {
        "colab": {
          "base_uri": "https://localhost:8080/"
        },
        "id": "D9JIVX5ubeKD",
        "outputId": "cfb367fc-bbee-4028-f581-e11151fc4edd"
      },
      "source": [
        "# Display the words with their indeces.\r\n",
        "print(\"token indeces: \")\r\n",
        "for tup in zip(tokenized_text[:10], indexed_tokens[:10]):\r\n",
        "    print('{:<12} {:>6,}'.format(tup[0], tup[1]))"
      ],
      "execution_count": null,
      "outputs": [
        {
          "output_type": "stream",
          "text": [
            "token indeces: \n",
            "hiji         26,131\n",
            "melayu       27,466\n",
            "jenis        23,430\n",
            "karo         23,223\n",
            "basa         15,707\n",
            "kategori     33,272\n",
            "saw          16,289\n",
            "##etar       90,240\n",
            "##a          10,112\n",
            "zion         37,074\n"
          ],
          "name": "stdout"
        }
      ]
    },
    {
      "cell_type": "code",
      "metadata": {
        "id": "G2AJqiVJcufw"
      },
      "source": [
        "def create_segment_id(list_tokens):\r\n",
        "  segment_id = []\r\n",
        "  i = 0\r\n",
        "\r\n",
        "  for token in list_tokens:\r\n",
        "    segment_id.append(i)\r\n",
        "    if token == \"[SEP]\":\r\n",
        "      i += 1\r\n",
        "  \r\n",
        "  return segment_id"
      ],
      "execution_count": null,
      "outputs": []
    },
    {
      "cell_type": "code",
      "metadata": {
        "id": "Gc5D5uigm6JA"
      },
      "source": [
        "segments_ids = [1] * len(tokenized_text)"
      ],
      "execution_count": null,
      "outputs": []
    },
    {
      "cell_type": "markdown",
      "metadata": {
        "id": "9cDSJlj3nl6a"
      },
      "source": [
        "### Extracting Embeddings"
      ]
    },
    {
      "cell_type": "code",
      "metadata": {
        "id": "MOZivkAanVeJ"
      },
      "source": [
        "# Convert inputs to PyTorch tensors\r\n",
        "tokens_tensor = torch.tensor([indexed_tokens])\r\n",
        "segments_tensors = torch.tensor([segments_ids])"
      ],
      "execution_count": null,
      "outputs": []
    },
    {
      "cell_type": "code",
      "metadata": {
        "colab": {
          "base_uri": "https://localhost:8080/"
        },
        "id": "PR8fAarXrEOX",
        "outputId": "1610baed-e813-457e-ee7e-fbc58dece16b"
      },
      "source": [
        "tokens_tensor.size()"
      ],
      "execution_count": null,
      "outputs": [
        {
          "output_type": "execute_result",
          "data": {
            "text/plain": [
              "torch.Size([1, 373])"
            ]
          },
          "metadata": {
            "tags": []
          },
          "execution_count": 17
        }
      ]
    },
    {
      "cell_type": "code",
      "metadata": {
        "colab": {
          "base_uri": "https://localhost:8080/"
        },
        "id": "RZIZh6t9rHRZ",
        "outputId": "1a4db498-9c34-471b-f33a-6a645e8e5275"
      },
      "source": [
        "segments_tensors.size()"
      ],
      "execution_count": null,
      "outputs": [
        {
          "output_type": "execute_result",
          "data": {
            "text/plain": [
              "torch.Size([1, 373])"
            ]
          },
          "metadata": {
            "tags": []
          },
          "execution_count": 18
        }
      ]
    },
    {
      "cell_type": "code",
      "metadata": {
        "id": "OTKWENhbnuoB"
      },
      "source": [
        "# Run the text through BERT, and collect all of the hidden states produced\r\n",
        "# from all 12 layers.\r\n",
        "def collect_hidden_states(tokens, segments):\r\n",
        "  with torch.no_grad():\r\n",
        "    outputs = model(tokens, segments)\r\n",
        "    return outputs[2]"
      ],
      "execution_count": null,
      "outputs": []
    },
    {
      "cell_type": "code",
      "metadata": {
        "id": "weJTH2S-oFL6"
      },
      "source": [
        "hidden_states = collect_hidden_states(tokens_tensor, segments_tensors)"
      ],
      "execution_count": null,
      "outputs": []
    },
    {
      "cell_type": "markdown",
      "metadata": {
        "id": "_DrSRaoG-kIw"
      },
      "source": [
        "### Create token embedding"
      ]
    },
    {
      "cell_type": "code",
      "metadata": {
        "colab": {
          "base_uri": "https://localhost:8080/"
        },
        "id": "tti7XYO0oa-2",
        "outputId": "dfad1401-e788-431d-ba84-3f2f723085b3"
      },
      "source": [
        "# `hidden_states` is a Python list.\r\n",
        "print('      Type of hidden_states: ', type(hidden_states))\r\n",
        "\r\n",
        "# Each layer in the list is a torch tensor.\r\n",
        "print('Tensor shape for each layer: ', hidden_states[0].size())"
      ],
      "execution_count": null,
      "outputs": [
        {
          "output_type": "stream",
          "text": [
            "      Type of hidden_states:  <class 'tuple'>\n",
            "Tensor shape for each layer:  torch.Size([1, 373, 768])\n"
          ],
          "name": "stdout"
        }
      ]
    },
    {
      "cell_type": "code",
      "metadata": {
        "id": "KrNeFuNy-tc8"
      },
      "source": [
        "def create_embeddings(hidden_states):\r\n",
        "  # Concatenate the tensors for all layers.\r\n",
        "  token_embeddings = torch.stack(hidden_states, dim=0)\r\n",
        "  # Remove dimension 1, the \"batches\".\r\n",
        "  token_embeddings = torch.squeeze(token_embeddings, dim=1)\r\n",
        "  # Swap dimensions 0 and 1.\r\n",
        "  token_embeddings = token_embeddings.permute(1,0,2)\r\n",
        "\r\n",
        "  return token_embeddings"
      ],
      "execution_count": null,
      "outputs": []
    },
    {
      "cell_type": "code",
      "metadata": {
        "colab": {
          "base_uri": "https://localhost:8080/"
        },
        "id": "5cDctbuR-zZW",
        "outputId": "7a3d332e-ea49-4a0d-fce8-d9a19245e5fb"
      },
      "source": [
        "token_embeddings = create_embeddings(hidden_states)\r\n",
        "\r\n",
        "token_embeddings.size()"
      ],
      "execution_count": null,
      "outputs": [
        {
          "output_type": "execute_result",
          "data": {
            "text/plain": [
              "torch.Size([373, 13, 768])"
            ]
          },
          "metadata": {
            "tags": []
          },
          "execution_count": 23
        }
      ]
    },
    {
      "cell_type": "code",
      "metadata": {
        "id": "r7s37b6O-51e"
      },
      "source": [
        "def create_word_vectors(tokens_embeddings):\r\n",
        "  # Stores the token vectors, with shape [22 x 768]\r\n",
        "  token_vecs_sum = []\r\n",
        "\r\n",
        "  # `token_embeddings` is a [22 x 12 x 768] tensor.\r\n",
        "  # For each token in the sentence...\r\n",
        "  for token in tokens_embeddings:\r\n",
        "    \r\n",
        "    # `token` is a [12 x 768] tensor\r\n",
        "    # Sum the vectors from the last four layers.\r\n",
        "    sum_vec = torch.sum(token[:-4], dim=0)\r\n",
        "\r\n",
        "    # Use `sum_vec` to represent `token`.\r\n",
        "    token_vecs_sum.append(sum_vec)\r\n",
        "  \r\n",
        "  return token_vecs_sum"
      ],
      "execution_count": null,
      "outputs": []
    },
    {
      "cell_type": "code",
      "metadata": {
        "colab": {
          "base_uri": "https://localhost:8080/"
        },
        "id": "GSZ_kNM3_AgI",
        "outputId": "662c2f14-6faf-4cc5-f6c0-12680ffed81b"
      },
      "source": [
        "token_vecs_sum = create_word_vectors(token_embeddings)\r\n",
        "\r\n",
        "print ('Shape is: %d x %d' % (len(token_vecs_sum), len(token_vecs_sum[0])))\r\n",
        "'hiji', 'melayu', 'jenis', 'karo', 'basa', 'kategori', 'sawetara', 'sabab', 'karakter', 'service', 'super', 'arca', 'planet', 'lan', 'umum', 'disebut', 'presasti', 'kagandheng', 'jagung', 'jerman', 'ieu', 'nasional', 'dinasti', 'kang', 'dene', 'time', 'eksentrisitas', 'web', 'teori', 'lalampahan', 'balak', 'tanpa', 'suku', 'suket', 'dagang', 'laboratorium', 'teu', 'wonten', 'manawa', 'ing', 'masalah', 'aya', 'jupiter', 'panjang', 'gambar', 'dadi', 'sawijining', 'kulina', 'nalika', 'punika', 'cacah', 'bantu', 'amarga', 'kacatet', 'misuwur', 'wis', 'data', 'duwe', 'taun', 'jepang', 'jumlah', 'iku', 'jeung', 'wanara', 'saben'"
      ],
      "execution_count": null,
      "outputs": [
        {
          "output_type": "stream",
          "text": [
            "Shape is: 373 x 768\n"
          ],
          "name": "stdout"
        }
      ]
    },
    {
      "cell_type": "code",
      "metadata": {
        "colab": {
          "base_uri": "https://localhost:8080/",
          "height": 35
        },
        "id": "KGkwixeB_Koy",
        "outputId": "5e9eeb09-df12-42dd-f8fe-900e3bfc8f0c"
      },
      "source": [
        "tokenized_text[0]"
      ],
      "execution_count": null,
      "outputs": [
        {
          "output_type": "execute_result",
          "data": {
            "application/vnd.google.colaboratory.intrinsic+json": {
              "type": "string"
            },
            "text/plain": [
              "'hiji'"
            ]
          },
          "metadata": {
            "tags": []
          },
          "execution_count": 34
        }
      ]
    },
    {
      "cell_type": "code",
      "metadata": {
        "id": "KefQ81xZ_W3W"
      },
      "source": [
        "words = ['hiji', 'melayu', 'jenis', 'karo', 'basa', 'kategori', 'sawetara', 'sabab', 'karakter', 'service', 'super', 'arca', 'planet', 'lan', 'umum', 'disebut', 'presasti', 'kagandheng', 'jagung', 'jerman', 'ieu', 'nasional', 'dinasti', 'kang', 'dene', 'time', 'eksentrisitas', 'web', 'teori', 'lalampahan', 'balak', 'tanpa', 'suku', 'suket', 'dagang', 'laboratorium', 'teu', 'wonten', 'manawa', 'ing', 'masalah', 'aya', 'jupiter', 'panjang', 'gambar', 'dadi', 'sawijining', 'kulina', 'nalika', 'punika', 'cacah', 'bantu', 'amarga', 'kacatet', 'misuwur', 'wis', 'data', 'duwe', 'taun', 'jepang', 'jumlah', 'iku']\r\n",
        "index_1 = []"
      ],
      "execution_count": null,
      "outputs": []
    },
    {
      "cell_type": "markdown",
      "metadata": {
        "id": "0PiZSMbGdtZv"
      },
      "source": [
        "### Similarity"
      ]
    },
    {
      "cell_type": "code",
      "metadata": {
        "colab": {
          "base_uri": "https://localhost:8080/"
        },
        "id": "jRYV7n16_zbF",
        "outputId": "bfac8328-e33e-4f6b-8dd0-9841afbfa0d2"
      },
      "source": [
        "from scipy.spatial.distance import cosine\r\n",
        "\r\n",
        "# Calculate the cosine similarity between the word -pergi- and -lunga-\r\n",
        "diff = 1 - cosine(token_vecs_sum[2], token_vecs_sum[3])\r\n",
        "\r\n",
        "print('Vector similarity for -pergi- and -lunga-:  %.2f' % diff)"
      ],
      "execution_count": null,
      "outputs": [
        {
          "output_type": "stream",
          "text": [
            "Vector similarity for -pergi- and -lunga-:  0.42\n"
          ],
          "name": "stdout"
        }
      ]
    },
    {
      "cell_type": "code",
      "metadata": {
        "id": "W1SQCcAgePa4"
      },
      "source": [
        "def most_similar(idx, token_vecs_sum):\r\n",
        "  max = 0\r\n",
        "  max_idx = 0\r\n",
        "  for i in range(0, len(token_vecs_sum)):\r\n",
        "    if (idx != i):\r\n",
        "      diff = 1 - cosine(token_vecs_sum[idx], token_vecs_sum[i])\r\n",
        "      if diff > max:\r\n",
        "        max = diff\r\n",
        "        max_idx = i\r\n",
        "\r\n",
        "  return (max_idx, max)"
      ],
      "execution_count": null,
      "outputs": []
    },
    {
      "cell_type": "code",
      "metadata": {
        "id": "ySxUa1kigRtj"
      },
      "source": [
        "sim_idx = []\r\n",
        "sim_val = []\r\n",
        "for idx in range(0, len(token_vecs_sum)):\r\n",
        "  x, y = most_similar(idx, token_vecs_sum)\r\n",
        "  sim_idx.append(x)\r\n",
        "  sim_val.append(y)"
      ],
      "execution_count": null,
      "outputs": []
    },
    {
      "cell_type": "code",
      "metadata": {
        "id": "gttrod-ehEUz"
      },
      "source": [
        "# Writing to an excel  \r\n",
        "# sheet using Python \r\n",
        "import xlwt \r\n",
        "from xlwt import Workbook \r\n",
        "  \r\n",
        "# Workbook is created \r\n",
        "wb = Workbook() \r\n",
        "  \r\n",
        "# add_sheet is used to create sheet. \r\n",
        "sheet1 = wb.add_sheet('BERT')\r\n",
        "\r\n",
        "sheet1.write(0, 0, 'word')\r\n",
        "sheet1.write(0, 1, 'similar')\r\n",
        "sheet1.write(0, 2, 'distance')\r\n",
        "\r\n",
        "for j in range(0,len(tokenized_text)):\r\n",
        "  sheet1.write(j+1, 0, tokenized_text[j])\r\n",
        "\r\n",
        "i = 1\r\n",
        "j = 1\r\n",
        "\r\n",
        "for idx in sim_idx:\r\n",
        "  sheet1.write(j, i, idx)\r\n",
        "  j += 1\r\n",
        "\r\n",
        "i = 2\r\n",
        "j = 1\r\n",
        "\r\n",
        "for val in sim_val:\r\n",
        "  sheet1.write(j, i, val)\r\n",
        "  j += 1\r\n",
        " \r\n",
        "wb.save('Laporan_KP.xls')"
      ],
      "execution_count": null,
      "outputs": []
    },
    {
      "cell_type": "code",
      "metadata": {
        "id": "zr1tfgSGjKPu"
      },
      "source": [
        ""
      ],
      "execution_count": null,
      "outputs": []
    }
  ]
}